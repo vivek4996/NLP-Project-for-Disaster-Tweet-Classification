{
 "cells": [
  {
   "cell_type": "raw",
   "id": "1abf2107-bbf1-4e4d-ac4c-082b6079d5d8",
   "metadata": {},
   "source": [
    "# Import necessary libraries"
   ]
  },
  {
   "cell_type": "code",
   "execution_count": 5,
   "id": "c1217157-44b8-4390-a440-d46a44bc5ffa",
   "metadata": {},
   "outputs": [],
   "source": [
    "import numpy as np\n",
    "import pandas as pd\n",
    "import re\n",
    "import os\n",
    "from sklearn.model_selection import train_test_split\n",
    "from sklearn.feature_extraction.text import TfidfVectorizer\n",
    "from sklearn.linear_model import LogisticRegression\n",
    "from sklearn.metrics import classification_report, f1_score\n",
    "import matplotlib.pyplot as plt\n",
    "import seaborn as sns"
   ]
  },
  {
   "cell_type": "raw",
   "id": "2660a2a7-aa37-4d47-add0-64d3a3657dd9",
   "metadata": {},
   "source": [
    "# Load datasets"
   ]
  },
  {
   "cell_type": "code",
   "execution_count": 7,
   "id": "87641b90-ac78-4f3a-8e35-1eee53615a5e",
   "metadata": {},
   "outputs": [],
   "source": [
    "train_data = pd.read_csv('train.csv')\n",
    "test_data = pd.read_csv('test.csv')"
   ]
  },
  {
   "cell_type": "code",
   "execution_count": 9,
   "id": "1722afe5-9c20-4707-b8be-351e5ed7db08",
   "metadata": {},
   "outputs": [
    {
     "name": "stdout",
     "output_type": "stream",
     "text": [
      "<class 'pandas.core.frame.DataFrame'>\n",
      "RangeIndex: 7613 entries, 0 to 7612\n",
      "Data columns (total 5 columns):\n",
      " #   Column    Non-Null Count  Dtype \n",
      "---  ------    --------------  ----- \n",
      " 0   id        7613 non-null   int64 \n",
      " 1   keyword   7552 non-null   object\n",
      " 2   location  5080 non-null   object\n",
      " 3   text      7613 non-null   object\n",
      " 4   target    7613 non-null   int64 \n",
      "dtypes: int64(2), object(3)\n",
      "memory usage: 297.5+ KB\n",
      "None\n",
      "<class 'pandas.core.frame.DataFrame'>\n",
      "RangeIndex: 3263 entries, 0 to 3262\n",
      "Data columns (total 4 columns):\n",
      " #   Column    Non-Null Count  Dtype \n",
      "---  ------    --------------  ----- \n",
      " 0   id        3263 non-null   int64 \n",
      " 1   keyword   3237 non-null   object\n",
      " 2   location  2158 non-null   object\n",
      " 3   text      3263 non-null   object\n",
      "dtypes: int64(1), object(3)\n",
      "memory usage: 102.1+ KB\n",
      "None\n"
     ]
    }
   ],
   "source": [
    "# Display basic information\n",
    "print(train_data.info())\n",
    "print(test_data.info())"
   ]
  },
  {
   "cell_type": "raw",
   "id": "6a9d3be1-de0c-44de-b261-e244921bd2fc",
   "metadata": {},
   "source": [
    "Data Preprocessing — Clean the Text"
   ]
  },
  {
   "cell_type": "code",
   "execution_count": 11,
   "id": "9916ab72-cc1f-4627-ac66-e3455cda1456",
   "metadata": {},
   "outputs": [],
   "source": [
    "# Function to clean text\n",
    "def clean_text(text):\n",
    "    text = re.sub(r'http\\S+', '', text)  # Remove URLs\n",
    "    text = re.sub(r'@\\w+', '', text)    # Remove mentions\n",
    "    text = re.sub(r'#', '', text)       # Remove hashtags\n",
    "    text = re.sub(r'[^a-zA-Z\\s]', '', text)  # Remove special characters\n",
    "    text = text.lower()  # Convert to lowercase\n",
    "    return text.strip()"
   ]
  },
  {
   "cell_type": "code",
   "execution_count": 13,
   "id": "65e34b73-4ddf-419e-86e8-1a9ee79efc1a",
   "metadata": {},
   "outputs": [],
   "source": [
    "# Apply cleaning to the datasets\n",
    "train_data['cleaned_text'] = train_data['text'].apply(clean_text)\n",
    "test_data['cleaned_text'] = test_data['text'].apply(clean_text)"
   ]
  },
  {
   "cell_type": "code",
   "execution_count": 15,
   "id": "c33a6367-a970-4353-9209-75e27110a642",
   "metadata": {},
   "outputs": [
    {
     "name": "stdout",
     "output_type": "stream",
     "text": [
      "                                                text  \\\n",
      "0  Our Deeds are the Reason of this #earthquake M...   \n",
      "1             Forest fire near La Ronge Sask. Canada   \n",
      "2  All residents asked to 'shelter in place' are ...   \n",
      "3  13,000 people receive #wildfires evacuation or...   \n",
      "4  Just got sent this photo from Ruby #Alaska as ...   \n",
      "\n",
      "                                        cleaned_text  \n",
      "0  our deeds are the reason of this earthquake ma...  \n",
      "1              forest fire near la ronge sask canada  \n",
      "2  all residents asked to shelter in place are be...  \n",
      "3  people receive wildfires evacuation orders in ...  \n",
      "4  just got sent this photo from ruby alaska as s...  \n"
     ]
    }
   ],
   "source": [
    "# Display a few examples of cleaned text\n",
    "print(train_data[['text', 'cleaned_text']].head())"
   ]
  },
  {
   "cell_type": "raw",
   "id": "99f0b42d-ef45-4c7b-8e3c-8d27169c4456",
   "metadata": {},
   "source": [
    "# Visualize the distribution of target labels (0 = Non-Disaster, 1 = Disaster)"
   ]
  },
  {
   "cell_type": "code",
   "execution_count": 17,
   "id": "704ff98f-f416-474b-ad03-6aa89986c6c9",
   "metadata": {},
   "outputs": [
    {
     "name": "stderr",
     "output_type": "stream",
     "text": [
      "C:\\Users\\LENOVO\\AppData\\Local\\Temp\\ipykernel_8440\\3737939440.py:2: FutureWarning: \n",
      "\n",
      "Passing `palette` without assigning `hue` is deprecated and will be removed in v0.14.0. Assign the `x` variable to `hue` and set `legend=False` for the same effect.\n",
      "\n",
      "  sns.countplot(x='target', data=train_data, palette='viridis')\n"
     ]
    },
    {
     "data": {
      "image/png": "[encoded data removed]",
      "text/plain": [
       "<Figure size 800x500 with 1 Axes>"
      ]
     },
     "metadata": {},
     "output_type": "display_data"
    }
   ],
   "source": [
    "plt.figure(figsize=(8, 5))\n",
    "sns.countplot(x='target', data=train_data, palette='viridis')\n",
    "plt.title(\"Distribution of Target Labels\")\n",
    "plt.xlabel(\"Target Label (0 = Not Disaster, 1 = Disaster)\")\n",
    "plt.ylabel(\"Count\")\n",
    "plt.show()"
   ]
  },
  {
   "cell_type": "raw",
   "id": "5c0ffdeb-a1ad-495c-81db-95f7a7e2f737",
   "metadata": {},
   "source": [
    "# Split into train and validation sets (80% train, 20% validation)"
   ]
  },
  {
   "cell_type": "code",
   "execution_count": 19,
   "id": "47b5b7bc-16c6-43ab-9e40-481d687ecc86",
   "metadata": {},
   "outputs": [],
   "source": [
    "X_train, X_val, y_train, y_val = train_test_split(\n",
    "    train_data['cleaned_text'], train_data['target'], test_size=0.2, random_state=42\n",
    ")"
   ]
  },
  {
   "cell_type": "code",
   "execution_count": 21,
   "id": "a0166ff3-a814-4dfd-8385-cc07632d1f11",
   "metadata": {},
   "outputs": [
    {
     "name": "stdout",
     "output_type": "stream",
     "text": [
      "Training set: (6090,), Validation set: (1523,)\n"
     ]
    }
   ],
   "source": [
    "# Check the shape of the splits\n",
    "print(f\"Training set: {X_train.shape}, Validation set: {X_val.shape}\")"
   ]
  },
  {
   "cell_type": "raw",
   "id": "86b179a6-c01e-446a-a92f-6febf3d054d7",
   "metadata": {},
   "source": [
    "Convert Text to Numerical Features (TF-IDF)"
   ]
  },
  {
   "cell_type": "code",
   "execution_count": 23,
   "id": "f910830a-3efc-451b-9d25-831670406e43",
   "metadata": {},
   "outputs": [
    {
     "name": "stdout",
     "output_type": "stream",
     "text": [
      "TF-IDF shape for training data: (6090, 5000)\n",
      "TF-IDF shape for validation data: (1523, 5000)\n"
     ]
    }
   ],
   "source": [
    "# Initialize TF-IDF Vectorizer\n",
    "tfidf = TfidfVectorizer(max_features=5000)\n",
    "\n",
    "# Transform the training and validation text data\n",
    "X_train_tfidf = tfidf.fit_transform(X_train)\n",
    "X_val_tfidf = tfidf.transform(X_val)\n",
    "X_test_tfidf = tfidf.transform(test_data['cleaned_text'])\n",
    "\n",
    "# Check the shape of the transformed data\n",
    "print(f\"TF-IDF shape for training data: {X_train_tfidf.shape}\")\n",
    "print(f\"TF-IDF shape for validation data: {X_val_tfidf.shape}\")"
   ]
  },
  {
   "cell_type": "raw",
   "id": "dcb0ab50-2696-4330-a8ac-a30ea34c402a",
   "metadata": {},
   "source": [
    "Train the Logistic Regression Model"
   ]
  },
  {
   "cell_type": "code",
   "execution_count": 25,
   "id": "62b43b78-008b-4aa5-8502-1ba2213312ae",
   "metadata": {},
   "outputs": [
    {
     "name": "stdout",
     "output_type": "stream",
     "text": [
      "F1 Score (Validation): 0.7552213868003341\n",
      "              precision    recall  f1-score   support\n",
      "\n",
      "           0       0.80      0.89      0.84       874\n",
      "           1       0.82      0.70      0.76       649\n",
      "\n",
      "    accuracy                           0.81      1523\n",
      "   macro avg       0.81      0.79      0.80      1523\n",
      "weighted avg       0.81      0.81      0.80      1523\n",
      "\n"
     ]
    }
   ],
   "source": [
    "# Initialize the Logistic Regression model\n",
    "model = LogisticRegression()\n",
    "\n",
    "# Train the model\n",
    "model.fit(X_train_tfidf, y_train)\n",
    "\n",
    "# Evaluate on the validation data\n",
    "y_pred_val = model.predict(X_val_tfidf)\n",
    "\n",
    "# Print classification results\n",
    "print(\"F1 Score (Validation):\", f1_score(y_val, y_pred_val))\n",
    "print(classification_report(y_val, y_pred_val))"
   ]
  },
  {
   "cell_type": "raw",
   "id": "cbbcbb73-2fd1-447f-b3c9-5c186894f99c",
   "metadata": {},
   "source": [
    "Make Predictions on the Test Data"
   ]
  },
  {
   "cell_type": "code",
   "execution_count": 27,
   "id": "f467c0e2-446b-49f3-ba3c-f9e477d85ecd",
   "metadata": {},
   "outputs": [
    {
     "name": "stdout",
     "output_type": "stream",
     "text": [
      "   id  target\n",
      "0   0       1\n",
      "1   2       1\n",
      "2   3       1\n",
      "3   9       0\n",
      "4  11       1\n"
     ]
    }
   ],
   "source": [
    "# Make predictions on the test dataset\n",
    "test_predictions = model.predict(X_test_tfidf)\n",
    "\n",
    "# Prepare the submission file\n",
    "submission = pd.DataFrame({'id': test_data['id'], 'target': test_predictions})\n",
    "submission.to_csv('submission.csv', index=False)\n",
    "\n",
    "# Display the first few rows of the submission\n",
    "print(submission.head())"
   ]
  },
  {
   "cell_type": "code",
   "execution_count": null,
   "id": "0fd712c8-e4af-4d97-8f1f-c20f5df3868c",
   "metadata": {},
   "outputs": [],
   "source": []
  }
 ],
 "metadata": {
  "kernelspec": {
   "display_name": "Python 3 (ipykernel)",
   "language": "python",
   "name": "python3"
  },
  "language_info": {
   "codemirror_mode": {
    "name": "ipython",
    "version": 3
   },
   "file_extension": ".py",
   "mimetype": "text/x-python",
   "name": "python",
   "nbconvert_exporter": "python",
   "pygments_lexer": "ipython3",
   "version": "3.12.7"
  }
 },
 "nbformat": 4,
 "nbformat_minor": 5
}
