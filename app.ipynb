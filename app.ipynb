{
 "cells": [
  {
   "cell_type": "code",
   "execution_count": 25,
   "id": "999aef2c-d74b-4435-8560-a03c36099fd9",
   "metadata": {},
   "outputs": [],
   "source": [
    "from flask import Flask, render_template, request\n",
    "import pickle\n",
    "import numpy as np\n",
    "\n",
    "model = pickle.load(open('iri.pkl', 'rb'))\n",
    "\n",
    "app = Flask(__name__)\n",
    "\n",
    "\n",
    "\n",
    "@app.route('/')\n",
    "def man():\n",
    "    return render_template('home.html')\n",
    "\n",
    "\n",
    "@app.route('/predict', methods=['POST'])\n",
    "def home():\n",
    "    data1 = request.form['a']\n",
    "    arr = np.array([[data1]])\n",
    "    pred = model.predict(arr)\n",
    "    return render_template('after.html', data=pred)\n",
    "\n",
    "\n",
    "if __name__ == \"__main__\":\n",
    "    app.run"
   ]
  },
  {
   "cell_type": "code",
   "execution_count": null,
   "id": "06084e61-fd08-4f70-a8f5-2a897eb4b781",
   "metadata": {},
   "outputs": [],
   "source": []
  }
 ],
 "metadata": {
  "kernelspec": {
   "display_name": "Python 3 (ipykernel)",
   "language": "python",
   "name": "python3"
  },
  "language_info": {
   "codemirror_mode": {
    "name": "ipython",
    "version": 3
   },
   "file_extension": ".py",
   "mimetype": "text/x-python",
   "name": "python",
   "nbconvert_exporter": "python",
   "pygments_lexer": "ipython3",
   "version": "3.12.7"
  }
 },
 "nbformat": 4,
 "nbformat_minor": 5
}
